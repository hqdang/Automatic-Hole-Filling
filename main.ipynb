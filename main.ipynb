{
 "cells": [
  {
   "cell_type": "code",
   "execution_count": 1,
   "metadata": {},
   "outputs": [],
   "source": [
    "import numpy as np\n",
    "import cv2\n",
    "import math as m\n",
    "from matplotlib import pyplot as plt"
   ]
  },
  {
   "cell_type": "code",
   "execution_count": 17,
   "metadata": {},
   "outputs": [
    {
     "data": {
      "text/plain": [
       "True"
      ]
     },
     "execution_count": 17,
     "metadata": {},
     "output_type": "execute_result"
    }
   ],
   "source": [
    "im_gray = cv2.imread('fingerprint.jpg', cv2.IMREAD_GRAYSCALE)\n",
    "(thresh, im_bw) = cv2.threshold(im_gray, 128, 255, cv2.THRESH_BINARY | cv2.THRESH_OTSU)\n",
    "thresh = 127\n",
    "im_bw = cv2.threshold(im_gray, thresh, 255, cv2.THRESH_BINARY)[1]\n",
    "cv2.imwrite('fingerprint_bw.png', im_bw)"
   ]
  },
  {
   "cell_type": "code",
   "execution_count": 3,
   "metadata": {},
   "outputs": [],
   "source": [
    "test = np.array([[0,0,0,0,0,0,255,0,0],\n",
    "                 [0,0,0,0,0,0,0,0,0],\n",
    "                 [0,0,255,255,255,255,255,255,0],\n",
    "                 [255,0,255,255,255,255,255,255,0],\n",
    "                 [0,0,255,255,255,255,0,255,0],\n",
    "                 [0,0,255,255,255,255,255,255,0],\n",
    "                 [0,0,0,0,0,0,0,0,0],\n",
    "                 [0,0,255,0,0,0,0,0,0]])\n",
    "im_bw = test"
   ]
  },
  {
   "cell_type": "code",
   "execution_count": 5,
   "metadata": {},
   "outputs": [],
   "source": [
    "def zero_pad (image, pad):\n",
    "    paddedImage = np.pad(image,((pad,pad),(pad,pad)), 'constant', constant_values = (0,0))\n",
    "    return paddedImage"
   ]
  },
  {
   "cell_type": "code",
   "execution_count": 6,
   "metadata": {},
   "outputs": [],
   "source": [
    "def form_marker(image):\n",
    "    H, W = np.shape(image)\n",
    "    marker = np.empty([H, W])\n",
    "    for h in range(H):                             \n",
    "            for w in range(W):                  \n",
    "                if h == 0 or h == (H-1) or w == 0 or w == (W-1):\n",
    "                    marker[h,w] = 255 - image[h,w]\n",
    "                else:\n",
    "                    marker[h,w] = 0\n",
    "    return marker"
   ]
  },
  {
   "cell_type": "code",
   "execution_count": 7,
   "metadata": {},
   "outputs": [],
   "source": [
    "def dilation(image):\n",
    "    H, W = np.shape(image)\n",
    "    dilated_image = np.empty([H, W])\n",
    "    paddedImage = zero_pad(image, 1)\n",
    "    for h in range(H):                             \n",
    "            for w in range(W):                  \n",
    "                vert_start = h \n",
    "                vert_end = vert_start+3\n",
    "                horiz_start = w\n",
    "                horiz_end = horiz_start+3\n",
    "                imageSlice = paddedImage[vert_start:vert_end, horiz_start:horiz_end]\n",
    "                if np.sum(imageSlice) != 0:\n",
    "                    dilated_image[h,w] = 255\n",
    "                else:\n",
    "                    dilated_image[h,w] = 0\n",
    "    dilated_image = dilated_image.astype(np.uint8)\n",
    "    return dilated_image"
   ]
  },
  {
   "cell_type": "code",
   "execution_count": 24,
   "metadata": {},
   "outputs": [],
   "source": [
    "def erosion(image):\n",
    "    Structuring_Element = np.full((7,7),255)\n",
    "    H, W = np.shape(image)\n",
    "    eroded_image = np.empty([H, W])\n",
    "    for h in range(H):                             \n",
    "            for w in range(W):                  \n",
    "                vert_start = h-1 \n",
    "                vert_end = vert_start+7\n",
    "                horiz_start = w-1\n",
    "                horiz_end = horiz_start+7\n",
    "                imageSlice = image[vert_start:vert_end, horiz_start:horiz_end]\n",
    "                if np.array_equal(imageSlice,Structuring_Element):\n",
    "                    eroded_image[h,w] = 255\n",
    "                else:\n",
    "                    eroded_image[h,w] = 0\n",
    "    eroded_image = eroded_image.astype(np.uint8)\n",
    "    return eroded_image"
   ]
  },
  {
   "cell_type": "code",
   "execution_count": 9,
   "metadata": {},
   "outputs": [],
   "source": [
    "def complement(marker):\n",
    "    H, W = np.shape(marker)\n",
    "    comp = np.empty([H, W])\n",
    "    for h in range(H):                             \n",
    "            for w in range(W):                  \n",
    "                if marker[h,w] == 0:\n",
    "                    comp[h,w] = 255\n",
    "                else:\n",
    "                    comp[h,w] = 0\n",
    "    return comp"
   ]
  },
  {
   "cell_type": "code",
   "execution_count": 10,
   "metadata": {},
   "outputs": [],
   "source": [
    "def intersection(image1, image2):\n",
    "    H, W = np.shape(image1)\n",
    "    intersect_array = np.empty([H, W])\n",
    "    for h in range(H):                             \n",
    "            for w in range(W):                  \n",
    "                if image1[h,w] == image2[h,w] == 255:\n",
    "                    intersect_array[h,w] = 1\n",
    "                else:\n",
    "                    intersect_array[h,w] = 0\n",
    "    return intersect_array"
   ]
  },
  {
   "cell_type": "code",
   "execution_count": 11,
   "metadata": {},
   "outputs": [],
   "source": [
    "def geodesicdilation(marker, mask, k):\n",
    "    H, W = np.shape(marker)\n",
    "    gdilation = np.empty([H, W])\n",
    "    temp = marker\n",
    "    for i in range(k):\n",
    "        dilated_image = dilation(temp)\n",
    "        intersect_array = intersection(dilated_image, mask)\n",
    "        for h in range(H):                             \n",
    "            for w in range(W):                  \n",
    "                if intersect_array[h,w] == 1:\n",
    "                    gdilation[h,w] = 255\n",
    "                else:\n",
    "                    gdilation[h,w] = 0\n",
    "        temp = gdilation\n",
    "    return gdilation, intersect_array        "
   ]
  },
  {
   "cell_type": "code",
   "execution_count": 25,
   "metadata": {},
   "outputs": [],
   "source": [
    "#if the image object is black\n",
    "#im_bw = form_mask(im_bw)\n",
    "#im_bw = im_bw.astype(np.uint8)\n",
    "eroded_image = erosion(im_bw)\n",
    "boundary = im_bw-eroded_image\n",
    "marker_image = form_marker(boundary)\n",
    "marker_image = marker_image.astype(np.uint8)\n",
    "mask = complement(boundary)\n",
    "mask = mask.astype(np.uint8)\n",
    "#print (im_bw)\n",
    "#print (marker_image)"
   ]
  },
  {
   "cell_type": "code",
   "execution_count": 26,
   "metadata": {},
   "outputs": [],
   "source": [
    "reconstruct, intersect_array = geodesicdilation(marker_image, mask, 1000)\n",
    "intersect_array = intersect_array*255\n",
    "intersect_array = intersect_array.astype(np.uint8)\n",
    "reconstruct = reconstruct.astype(np.uint8)\n",
    "output = complement(reconstruct)"
   ]
  },
  {
   "cell_type": "code",
   "execution_count": 133,
   "metadata": {},
   "outputs": [
    {
     "name": "stdout",
     "output_type": "stream",
     "text": [
      "[[255 255 255 255 255 255   0 255 255]\n",
      " [255 255 255 255 255 255 255 255 255]\n",
      " [255 255   0   0   0   0   0   0 255]\n",
      " [  0 255   0   0   0   0   0   0 255]\n",
      " [255 255   0   0   0   0   0   0 255]\n",
      " [255 255   0   0   0   0   0   0 255]\n",
      " [255 255 255 255 255 255 255 255 255]\n",
      " [255 255   0 255 255 255 255 255 255]]\n"
     ]
    }
   ],
   "source": [
    "#print(eroded_image)\n",
    "#print(boundary)\n",
    "print(reconstruct)"
   ]
  },
  {
   "cell_type": "code",
   "execution_count": 31,
   "metadata": {},
   "outputs": [],
   "source": [
    "# im_bw = form_mask(im_bw)\n",
    "# im_bw = im_bw.astype(np.uint8)\n",
    "# new = im_bw\n",
    "# for i in range(10):\n",
    "#     dilated_image = dilation(new)\n",
    "#     new = dilated_image   \n",
    "#A = np.full((3,3),255)\n",
    "#B = np.array([[255,255,255],[255,255,255],[255,255,255]])\n",
    "#print(np.array_equal(A,B))"
   ]
  },
  {
   "cell_type": "code",
   "execution_count": 56,
   "metadata": {},
   "outputs": [
    {
     "name": "stdout",
     "output_type": "stream",
     "text": [
      "(1250, 1000)\n",
      "<class 'numpy.uint8'>\n",
      "<class 'numpy.uint8'>\n"
     ]
    }
   ],
   "source": [
    "\n",
    "print(output.shape)\n",
    "print(type(reconstruct[0,0]))\n",
    "print(type(output[0,0]))"
   ]
  },
  {
   "cell_type": "code",
   "execution_count": 28,
   "metadata": {},
   "outputs": [],
   "source": [
    "output = output.astype(np.uint8)\n",
    "cv2.imshow(' ',output)\n",
    "cv2.waitKey(0)\n",
    "cv2.destroyAllWindows()"
   ]
  },
  {
   "cell_type": "code",
   "execution_count": 29,
   "metadata": {},
   "outputs": [
    {
     "data": {
      "text/plain": [
       "True"
      ]
     },
     "execution_count": 29,
     "metadata": {},
     "output_type": "execute_result"
    }
   ],
   "source": [
    "cv2.imwrite('fingerprint1000.png', output)"
   ]
  },
  {
   "cell_type": "code",
   "execution_count": null,
   "metadata": {},
   "outputs": [],
   "source": []
  }
 ],
 "metadata": {
  "kernelspec": {
   "display_name": "Python 3",
   "language": "python",
   "name": "python3"
  },
  "language_info": {
   "codemirror_mode": {
    "name": "ipython",
    "version": 3
   },
   "file_extension": ".py",
   "mimetype": "text/x-python",
   "name": "python",
   "nbconvert_exporter": "python",
   "pygments_lexer": "ipython3",
   "version": "3.6.8"
  }
 },
 "nbformat": 4,
 "nbformat_minor": 2
}
